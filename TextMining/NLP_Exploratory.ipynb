{
 "cells": [
  {
   "cell_type": "markdown",
   "metadata": {},
   "source": [
    "# Intelligent Information Retreival - Final Project\n",
    "## Genre Classification of Feature Films"
   ]
  },
  {
   "cell_type": "markdown",
   "metadata": {},
   "source": [
    "Data Set Source: https://www.kaggle.com/hijest/genre-classification-dataset-imdb/version/1"
   ]
  },
  {
   "cell_type": "markdown",
   "metadata": {},
   "source": [
    "Training Data Size:\n",
    "Test Data Size: "
   ]
  },
  {
   "cell_type": "markdown",
   "metadata": {},
   "source": [
    "## Packages and Data Import"
   ]
  },
  {
   "cell_type": "code",
   "execution_count": 184,
   "metadata": {},
   "outputs": [],
   "source": [
    "import numpy as np\n",
    "import pandas as pd\n",
    "pd.options.mode.chained_assignment = None\n",
    "from nltk.corpus import stopwords\n",
    "from collections import Counter\n",
    "import nltk\n",
    "from sklearn.feature_extraction.text import CountVectorizer\n",
    "# nltk.download('punkt')\n",
    "# nltk.download('stopwords')\n"
   ]
  },
  {
   "cell_type": "code",
   "execution_count": 185,
   "metadata": {},
   "outputs": [],
   "source": [
    "import matplotlib.pyplot as plt\n",
    "from sklearn.metrics.pairwise import cosine_similarity\n",
    "from sklearn.model_selection import train_test_split\n",
    "from sklearn import preprocessing\n",
    "from sklearn.metrics import confusion_matrix\n",
    "from sklearn import metrics\n",
    "import seaborn as sns"
   ]
  },
  {
   "cell_type": "code",
   "execution_count": 186,
   "metadata": {},
   "outputs": [
    {
     "name": "stderr",
     "output_type": "stream",
     "text": [
      "C:\\Users\\tate5\\AppData\\Local\\Temp\\ipykernel_7892\\3529705301.py:2: ParserWarning: Falling back to the 'python' engine because the 'c' engine does not support regex separators (separators > 1 char and different from '\\s+' are interpreted as regex); you can avoid this warning by specifying engine='python'.\n",
      "  dfTrain = pd.read_csv('train_data.txt',delimiter=':::',names=colNames)\n"
     ]
    }
   ],
   "source": [
    "colNames = ['id','title','genre','descr']\n",
    "dfTrain = pd.read_csv('train_data.txt',delimiter=':::',names=colNames)\n",
    "dfTrain['genre'] = dfTrain['genre'].apply(lambda x: x.strip())\n",
    "dfTrain['genre'] = dfTrain['genre'].astype('category')\n",
    "dfTrain['_label_'] = dfTrain['genre'].cat.codes"
   ]
  },
  {
   "cell_type": "code",
   "execution_count": 182,
   "metadata": {},
   "outputs": [
    {
     "data": {
      "text/plain": [
       "drama          0.251098\n",
       "documentary    0.241561\n",
       "comedy         0.137363\n",
       "short          0.093574\n",
       "horror         0.040654\n",
       "thriller       0.029347\n",
       "action         0.024256\n",
       "western        0.019036\n",
       "reality-tv     0.016306\n",
       "family         0.014461\n",
       "adventure      0.014295\n",
       "music          0.013484\n",
       "romance        0.012395\n",
       "sci-fi         0.011934\n",
       "adult          0.010883\n",
       "crime          0.009315\n",
       "animation      0.009186\n",
       "sport          0.007968\n",
       "talk-show      0.007212\n",
       "fantasy        0.005958\n",
       "mystery        0.005884\n",
       "musical        0.005109\n",
       "biography      0.004888\n",
       "history        0.004482\n",
       "game-show      0.003578\n",
       "news           0.003339\n",
       "war            0.002435\n",
       "Name: genre, dtype: float64"
      ]
     },
     "execution_count": 182,
     "metadata": {},
     "output_type": "execute_result"
    }
   ],
   "source": [
    "dfTrain['genre'].value_counts(normalize=True)\n"
   ]
  },
  {
   "cell_type": "markdown",
   "metadata": {},
   "source": [
    "Unbalanced classes making accurate identification difficult, three possible approaches: \n",
    "* subsample the data to get balanced classes(genres) with more than 999 movies for each\n",
    "* regroup by more general categories (requires subjective and manual grouping)\n",
    "* SMOTE Over/Under sampling of data"
   ]
  },
  {
   "cell_type": "markdown",
   "metadata": {},
   "source": [
    "https://www.filmsite.org/genres.html"
   ]
  },
  {
   "cell_type": "code",
   "execution_count": 4,
   "metadata": {},
   "outputs": [
    {
     "data": {
      "text/plain": [
       "drama          13613\n",
       "documentary    13096\n",
       "comedy          7447\n",
       "short           5073\n",
       "horror          2204\n",
       "thriller        1591\n",
       "action          1315\n",
       "western         1032\n",
       "reality-tv       884\n",
       "family           784\n",
       "adventure        775\n",
       "music            731\n",
       "romance          672\n",
       "sci-fi           647\n",
       "adult            590\n",
       "crime            505\n",
       "animation        498\n",
       "sport            432\n",
       "talk-show        391\n",
       "fantasy          323\n",
       "mystery          319\n",
       "musical          277\n",
       "biography        265\n",
       "history          243\n",
       "game-show        194\n",
       "news             181\n",
       "war              132\n",
       "Name: genre, dtype: int64"
      ]
     },
     "execution_count": 4,
     "metadata": {},
     "output_type": "execute_result"
    }
   ],
   "source": [
    "dfTrain['genre'].value_counts()"
   ]
  },
  {
   "cell_type": "code",
   "execution_count": 224,
   "metadata": {},
   "outputs": [],
   "source": [
    "dfTrain['_label_'] = dfTrain.genre.copy()\n",
    "dfTrain['_label_'].replace('action',1,inplace=True)\n",
    "dfTrain['_label_'].replace('thriller', 1,inplace=True)\n",
    "dfTrain['_label_'].replace('adventure', 2,inplace=True)\n",
    "dfTrain['_label_'].replace('mystery', 2,inplace=True)\n",
    "dfTrain['_label_'].replace('comedy', 3,inplace=True)\n",
    "dfTrain['_label_'].replace('crime', 4,inplace=True)\n",
    "dfTrain['_label_'].replace('drama', 5,inplace=True)\n",
    "dfTrain['_label_'].replace('romance', 5,inplace=True)\n",
    "dfTrain['_label_'].replace('adult', 5,inplace=True)\n",
    "dfTrain['_label_'].replace('history', 6,inplace=True)\n",
    "dfTrain['_label_'].replace('biography', 6,inplace=True)\n",
    "dfTrain['_label_'].replace('war', 6,inplace=True)\n",
    "dfTrain['_label_'].replace('news', 6,inplace=True)\n",
    "dfTrain['_label_'].replace('horror', 7,inplace=True)\n",
    "dfTrain['_label_'].replace('music', 8,inplace=True)\n",
    "dfTrain['_label_'].replace('musical', 8,inplace=True)\n",
    "dfTrain['_label_'].replace('sci-fi', 9,inplace=True)\n",
    "dfTrain['_label_'].replace('fantasy', 9,inplace=True)\n",
    "dfTrain['_label_'].replace('documentary', 10,inplace=True)\n",
    "dfTrain['_label_'].replace('short', 10,inplace=True)\n",
    "dfTrain['_label_'].replace('reality-tv', 11,inplace=True)\n",
    "dfTrain['_label_'].replace('family', 11,inplace=True)\n",
    "dfTrain['_label_'].replace('animation', 11,inplace=True)\n",
    "dfTrain['_label_'].replace('sport', 11,inplace=True)\n",
    "dfTrain['_label_'].replace('talk-show', 11,inplace=True)\n",
    "dfTrain['_label_'].replace('game-show', 11,inplace=True)\n",
    "dfTrain['_label_'].replace('western', 12,inplace=True)\n",
    "\n",
    "dfTrain = dfTrain.groupby('_label_').head(500).reset_index(drop=True)"
   ]
  },
  {
   "cell_type": "markdown",
   "metadata": {},
   "source": [
    "Below code will grab just the genres with > then 999 samples and take the top 1000 from each, however this would mean that all other genre types would need to be classified as other. Because of the similarity between genres like thriller and action this seemed like a less than optimal strategy to take."
   ]
  },
  {
   "cell_type": "code",
   "execution_count": 143,
   "metadata": {},
   "outputs": [],
   "source": [
    "# dfTrain = dfTrain.groupby('genre').filter(lambda x: len(x) > 999)\n",
    "# dfTrain = dfTrain.groupby('genre').head(1000).reset_index(drop=True)"
   ]
  },
  {
   "cell_type": "code",
   "execution_count": 146,
   "metadata": {},
   "outputs": [],
   "source": [
    "# dfTrain['genre'] = dfTrain['genre'].astype('category')\n",
    "# dfTrain['_label_'] = dfTrain['genre'].cat.codes"
   ]
  },
  {
   "cell_type": "markdown",
   "metadata": {},
   "source": [
    "Left the following genre's to classify"
   ]
  },
  {
   "cell_type": "code",
   "execution_count": 6,
   "metadata": {},
   "outputs": [
    {
     "data": {
      "text/plain": [
       "5     500\n",
       "1     500\n",
       "10    500\n",
       "3     500\n",
       "4     500\n",
       "11    500\n",
       "7     500\n",
       "9     500\n",
       "8     500\n",
       "2     500\n",
       "12    500\n",
       "6     500\n",
       "Name: _label_, dtype: int64"
      ]
     },
     "execution_count": 6,
     "metadata": {},
     "output_type": "execute_result"
    }
   ],
   "source": [
    "dfTrain['_label_'].value_counts()"
   ]
  },
  {
   "cell_type": "markdown",
   "metadata": {},
   "source": [
    "## Exploratory Analysis"
   ]
  },
  {
   "cell_type": "code",
   "execution_count": 84,
   "metadata": {},
   "outputs": [
    {
     "data": {
      "text/html": [
       "<div>\n",
       "<style scoped>\n",
       "    .dataframe tbody tr th:only-of-type {\n",
       "        vertical-align: middle;\n",
       "    }\n",
       "\n",
       "    .dataframe tbody tr th {\n",
       "        vertical-align: top;\n",
       "    }\n",
       "\n",
       "    .dataframe thead th {\n",
       "        text-align: right;\n",
       "    }\n",
       "</style>\n",
       "<table border=\"1\" class=\"dataframe\">\n",
       "  <thead>\n",
       "    <tr style=\"text-align: right;\">\n",
       "      <th></th>\n",
       "      <th>id</th>\n",
       "      <th>title</th>\n",
       "      <th>genre</th>\n",
       "      <th>descr</th>\n",
       "      <th>label</th>\n",
       "    </tr>\n",
       "  </thead>\n",
       "  <tbody>\n",
       "    <tr>\n",
       "      <th>0</th>\n",
       "      <td>1</td>\n",
       "      <td>Oscar et la dame rose (2009)</td>\n",
       "      <td>drama</td>\n",
       "      <td>Listening in to a conversation between his do...</td>\n",
       "      <td>8</td>\n",
       "    </tr>\n",
       "    <tr>\n",
       "      <th>1</th>\n",
       "      <td>2</td>\n",
       "      <td>Cupid (1997)</td>\n",
       "      <td>thriller</td>\n",
       "      <td>A brother and sister with a past incestuous r...</td>\n",
       "      <td>24</td>\n",
       "    </tr>\n",
       "    <tr>\n",
       "      <th>2</th>\n",
       "      <td>3</td>\n",
       "      <td>Young, Wild and Wonderful (1980)</td>\n",
       "      <td>adult</td>\n",
       "      <td>As the bus empties the students for their fie...</td>\n",
       "      <td>1</td>\n",
       "    </tr>\n",
       "    <tr>\n",
       "      <th>3</th>\n",
       "      <td>4</td>\n",
       "      <td>The Secret Sin (1915)</td>\n",
       "      <td>drama</td>\n",
       "      <td>To help their unemployed father make ends mee...</td>\n",
       "      <td>8</td>\n",
       "    </tr>\n",
       "    <tr>\n",
       "      <th>4</th>\n",
       "      <td>5</td>\n",
       "      <td>The Unrecovered (2007)</td>\n",
       "      <td>drama</td>\n",
       "      <td>The film's title refers not only to the un-re...</td>\n",
       "      <td>8</td>\n",
       "    </tr>\n",
       "  </tbody>\n",
       "</table>\n",
       "</div>"
      ],
      "text/plain": [
       "   id                               title       genre  \\\n",
       "0   1       Oscar et la dame rose (2009)       drama    \n",
       "1   2                       Cupid (1997)    thriller    \n",
       "2   3   Young, Wild and Wonderful (1980)       adult    \n",
       "3   4              The Secret Sin (1915)       drama    \n",
       "4   5             The Unrecovered (2007)       drama    \n",
       "\n",
       "                                               descr  label  \n",
       "0   Listening in to a conversation between his do...      8  \n",
       "1   A brother and sister with a past incestuous r...     24  \n",
       "2   As the bus empties the students for their fie...      1  \n",
       "3   To help their unemployed father make ends mee...      8  \n",
       "4   The film's title refers not only to the un-re...      8  "
      ]
     },
     "execution_count": 84,
     "metadata": {},
     "output_type": "execute_result"
    }
   ],
   "source": [
    "dfTrain.head()"
   ]
  },
  {
   "cell_type": "code",
   "execution_count": 83,
   "metadata": {},
   "outputs": [
    {
     "name": "stdout",
     "output_type": "stream",
     "text": [
      "<class 'pandas.core.frame.DataFrame'>\n",
      "RangeIndex: 54214 entries, 0 to 54213\n",
      "Data columns (total 5 columns):\n",
      " #   Column  Non-Null Count  Dtype   \n",
      "---  ------  --------------  -----   \n",
      " 0   id      54214 non-null  int64   \n",
      " 1   title   54214 non-null  object  \n",
      " 2   genre   54214 non-null  category\n",
      " 3   descr   54214 non-null  object  \n",
      " 4   label   54214 non-null  int8    \n",
      "dtypes: category(1), int64(1), int8(1), object(2)\n",
      "memory usage: 1.3+ MB\n"
     ]
    }
   ],
   "source": [
    "dfTrain.info()"
   ]
  },
  {
   "cell_type": "code",
   "execution_count": 187,
   "metadata": {},
   "outputs": [],
   "source": [
    "dfTrain['year'] = dfTrain['title'].str[-6:]\n",
    "dfTrain['year'] = dfTrain['year'].str[:4]\n",
    "dfTrain['year'] = pd.to_numeric(dfTrain['year'].astype(str).str.replace(',',''), errors='coerce').fillna(0).astype(int)"
   ]
  },
  {
   "cell_type": "code",
   "execution_count": 21,
   "metadata": {},
   "outputs": [
    {
     "data": {
      "text/html": [
       "<div>\n",
       "<style scoped>\n",
       "    .dataframe tbody tr th:only-of-type {\n",
       "        vertical-align: middle;\n",
       "    }\n",
       "\n",
       "    .dataframe tbody tr th {\n",
       "        vertical-align: top;\n",
       "    }\n",
       "\n",
       "    .dataframe thead th {\n",
       "        text-align: right;\n",
       "    }\n",
       "</style>\n",
       "<table border=\"1\" class=\"dataframe\">\n",
       "  <thead>\n",
       "    <tr style=\"text-align: right;\">\n",
       "      <th></th>\n",
       "      <th>id</th>\n",
       "      <th>title</th>\n",
       "      <th>genre</th>\n",
       "      <th>descr</th>\n",
       "      <th>year</th>\n",
       "    </tr>\n",
       "  </thead>\n",
       "  <tbody>\n",
       "    <tr>\n",
       "      <th>0</th>\n",
       "      <td>1</td>\n",
       "      <td>Oscar et la dame rose (2009)</td>\n",
       "      <td>drama</td>\n",
       "      <td>Listening in to a conversation between his do...</td>\n",
       "      <td>2009</td>\n",
       "    </tr>\n",
       "    <tr>\n",
       "      <th>1</th>\n",
       "      <td>2</td>\n",
       "      <td>Cupid (1997)</td>\n",
       "      <td>thriller</td>\n",
       "      <td>A brother and sister with a past incestuous r...</td>\n",
       "      <td>1997</td>\n",
       "    </tr>\n",
       "    <tr>\n",
       "      <th>2</th>\n",
       "      <td>3</td>\n",
       "      <td>Young, Wild and Wonderful (1980)</td>\n",
       "      <td>adult</td>\n",
       "      <td>As the bus empties the students for their fie...</td>\n",
       "      <td>1980</td>\n",
       "    </tr>\n",
       "    <tr>\n",
       "      <th>3</th>\n",
       "      <td>4</td>\n",
       "      <td>The Secret Sin (1915)</td>\n",
       "      <td>drama</td>\n",
       "      <td>To help their unemployed father make ends mee...</td>\n",
       "      <td>1915</td>\n",
       "    </tr>\n",
       "    <tr>\n",
       "      <th>4</th>\n",
       "      <td>5</td>\n",
       "      <td>The Unrecovered (2007)</td>\n",
       "      <td>drama</td>\n",
       "      <td>The film's title refers not only to the un-re...</td>\n",
       "      <td>2007</td>\n",
       "    </tr>\n",
       "  </tbody>\n",
       "</table>\n",
       "</div>"
      ],
      "text/plain": [
       "   id                               title       genre  \\\n",
       "0   1       Oscar et la dame rose (2009)       drama    \n",
       "1   2                       Cupid (1997)    thriller    \n",
       "2   3   Young, Wild and Wonderful (1980)       adult    \n",
       "3   4              The Secret Sin (1915)       drama    \n",
       "4   5             The Unrecovered (2007)       drama    \n",
       "\n",
       "                                               descr  year  \n",
       "0   Listening in to a conversation between his do...  2009  \n",
       "1   A brother and sister with a past incestuous r...  1997  \n",
       "2   As the bus empties the students for their fie...  1980  \n",
       "3   To help their unemployed father make ends mee...  1915  \n",
       "4   The film's title refers not only to the un-re...  2007  "
      ]
     },
     "execution_count": 21,
     "metadata": {},
     "output_type": "execute_result"
    }
   ],
   "source": [
    "dfTrain.head()"
   ]
  },
  {
   "cell_type": "code",
   "execution_count": 24,
   "metadata": {},
   "outputs": [
    {
     "data": {
      "text/plain": [
       "0       4344\n",
       "2016    3048\n",
       "2017    3018\n",
       "2015    2740\n",
       "2014    2324\n",
       "        ... \n",
       "1896       3\n",
       "1904       2\n",
       "1895       2\n",
       "2021       2\n",
       "2022       1\n",
       "Name: year, Length: 129, dtype: int64"
      ]
     },
     "execution_count": 24,
     "metadata": {},
     "output_type": "execute_result"
    }
   ],
   "source": [
    "dfTrain.year.value_counts()"
   ]
  },
  {
   "cell_type": "code",
   "execution_count": 188,
   "metadata": {},
   "outputs": [
    {
     "data": {
      "text/plain": [
       "Text(0, 0.5, 'Counts')"
      ]
     },
     "execution_count": 188,
     "metadata": {},
     "output_type": "execute_result"
    },
    {
     "data": {
      "image/png": "[encoded data removed]",
      "text/plain": [
       "<Figure size 864x576 with 1 Axes>"
      ]
     },
     "metadata": {
      "needs_background": "light"
     },
     "output_type": "display_data"
    }
   ],
   "source": [
    "dfTrain[dfTrain['year'] > 1960].hist('year',grid=False,figsize=(12,8),bins=20)\n",
    "plt.title('Histogram of Years each movie was released')\n",
    "plt.xlabel('Years')\n",
    "plt.ylabel('Counts')"
   ]
  },
  {
   "cell_type": "markdown",
   "metadata": {},
   "source": [
    "## Clean text"
   ]
  },
  {
   "cell_type": "code",
   "execution_count": 225,
   "metadata": {},
   "outputs": [],
   "source": [
    "stops = stopwords.words('english')\n",
    "porter = nltk.stem.PorterStemmer()\n",
    "\n",
    "dfTrain['descr'] = dfTrain['descr'].str.replace('[^a-zA-Z]',' ', regex=True)\n",
    "dfTrain['noStopWords'] = dfTrain['descr'].apply(lambda x: [word.lower() for word in x.split() if word.lower() not in stops])\n",
    "dfTrain['stemmed'] = dfTrain['noStopWords'].apply(lambda y:[porter.stem(word) for word in y])"
   ]
  },
  {
   "cell_type": "markdown",
   "metadata": {},
   "source": [
    "### Need to find way to remove the words that show up under n times to reduce final Doc x term freq matrix size and keep core concepts"
   ]
  },
  {
   "cell_type": "markdown",
   "metadata": {},
   "source": [
    "#### Can possibly do it through removing words that show up < N times across all documents "
   ]
  },
  {
   "cell_type": "code",
   "execution_count": 190,
   "metadata": {},
   "outputs": [],
   "source": [
    "allWords = np.asarray(dfTrain.stemmed)\n",
    "fullSet = [word for sent in allWords for word in sent]\n",
    "cnt = Counter(fullSet)"
   ]
  },
  {
   "cell_type": "code",
   "execution_count": 191,
   "metadata": {},
   "outputs": [
    {
     "name": "stdout",
     "output_type": "stream",
     "text": [
      "# of words: 3,115,240\n"
     ]
    }
   ],
   "source": [
    "print(f'# of words: {len(fullSet):,}')"
   ]
  },
  {
   "cell_type": "code",
   "execution_count": 192,
   "metadata": {},
   "outputs": [
    {
     "name": "stdout",
     "output_type": "stream",
     "text": [
      "# of Unique Words: 89,316\n"
     ]
    }
   ],
   "source": [
    "print(f'# of Unique Words: {len(cnt):,}')"
   ]
  },
  {
   "cell_type": "code",
   "execution_count": 235,
   "metadata": {},
   "outputs": [
    {
     "data": {
      "text/plain": [
       "[('asst', 1),\n",
       " ('bonacorsi', 1),\n",
       " ('scrubland', 1),\n",
       " ('guillaum', 1),\n",
       " ('riq', 1),\n",
       " ('amraoui', 1),\n",
       " ('canadair', 1),\n",
       " ('dalgaard', 1),\n",
       " ('beckett', 1),\n",
       " ('buerger', 1),\n",
       " ('goodman', 1),\n",
       " ('backstab', 1),\n",
       " ('bjarn', 1),\n",
       " ('stergaard', 1),\n",
       " ('madsen', 1),\n",
       " ('hern', 1),\n",
       " ('gind', 1),\n",
       " ('krimi', 1),\n",
       " ('politig', 1),\n",
       " ('rden', 1),\n",
       " ('finist', 1),\n",
       " ('binita', 1),\n",
       " ('tshere', 1),\n",
       " ('gyeltshen', 1),\n",
       " ('misdiagnos', 1),\n",
       " ('karadsheh', 1),\n",
       " ('whistleblow', 1),\n",
       " ('pavement', 1),\n",
       " ('pape', 1),\n",
       " ('dade', 1),\n",
       " ('snezhkin', 1),\n",
       " ('drafter', 1),\n",
       " ('liuzhiyuan', 1),\n",
       " ('kuiyong', 1),\n",
       " ('xao', 1),\n",
       " ('magan', 1),\n",
       " ('pangzi', 1),\n",
       " ('ecrivain', 1),\n",
       " ('historien', 1),\n",
       " ('avoir', 1),\n",
       " ('achev', 1),\n",
       " ('tude', 1),\n",
       " ('merair', 1),\n",
       " ('editeur', 1),\n",
       " ('gre', 1),\n",
       " ('cinq', 1),\n",
       " ('ravissant', 1),\n",
       " ('secretair', 1),\n",
       " ('particuli', 1),\n",
       " ('seduit', 1),\n",
       " ('vieill', 1),\n",
       " ('veuv', 1),\n",
       " ('melisa', 1),\n",
       " ('italienn', 1),\n",
       " ('celui', 1),\n",
       " ('autor', 1),\n",
       " ('soll', 1),\n",
       " ('letzt', 1),\n",
       " ('werk', 1),\n",
       " ('rzlich', 1),\n",
       " ('verstorbenen', 1),\n",
       " ('schriftstel', 1),\n",
       " ('vollenden', 1),\n",
       " ('setzt', 1),\n",
       " ('arbeit', 1),\n",
       " ('mittelm', 1),\n",
       " ('wird', 1),\n",
       " ('sekret', 1),\n",
       " ('verf', 1),\n",
       " ('kommt', 1),\n",
       " ('ihm', 1),\n",
       " ('verdacht', 1),\n",
       " ('unfal', 1),\n",
       " ('sowohl', 1),\n",
       " ('vier', 1),\n",
       " ('anderen', 1),\n",
       " ('zeigen', 1),\n",
       " ('trauer', 1),\n",
       " ('sehen', 1),\n",
       " ('nf', 1),\n",
       " ('bedrohung', 1),\n",
       " ('kritikauszug', 1),\n",
       " ('vite', 1),\n",
       " ('souvent', 1),\n",
       " ('tomber', 1),\n",
       " ('taper', 1),\n",
       " ('faisant', 1),\n",
       " ('agress', 1),\n",
       " ('penderi', 1),\n",
       " ('voyon', 1),\n",
       " ('toublanc', 1),\n",
       " ('arrach', 1),\n",
       " ('viol', 1),\n",
       " ('pendenn', 1),\n",
       " ('neb', 1),\n",
       " ('spokesmen', 1),\n",
       " ('vaillancourt', 1),\n",
       " ('devkirai', 1),\n",
       " ('kosaka', 1),\n",
       " ('hiroshi', 1)]"
      ]
     },
     "execution_count": 235,
     "metadata": {},
     "output_type": "execute_result"
    }
   ],
   "source": [
    "cnt.most_common()[-100:]"
   ]
  },
  {
   "cell_type": "code",
   "execution_count": 236,
   "metadata": {},
   "outputs": [],
   "source": [
    "uncommonWords = Counter({key: c for key,c in cnt.items() if c <= 10})"
   ]
  },
  {
   "cell_type": "code",
   "execution_count": 237,
   "metadata": {},
   "outputs": [
    {
     "name": "stdout",
     "output_type": "stream",
     "text": [
      "# of uncommon words to remove: 22,553\n"
     ]
    }
   ],
   "source": [
    "print(f'# of uncommon words to remove: {len(uncommonWords):,}')"
   ]
  },
  {
   "cell_type": "markdown",
   "metadata": {},
   "source": [
    "#### However we can see this will miss unimportant words that show multiple times but only in 1 document, lets try to remove words that show up in less than 3 different documents"
   ]
  },
  {
   "cell_type": "code",
   "execution_count": 229,
   "metadata": {},
   "outputs": [
    {
     "name": "stdout",
     "output_type": "stream",
     "text": [
      "# unique-document words: 280,188\n",
      "# of unique words: 26,115\n"
     ]
    }
   ],
   "source": [
    "dfTrain['unique'] = dfTrain['stemmed'].apply(lambda z: list(set(z)))\n",
    "\n",
    "uniqueWords_by_doc = np.asarray(dfTrain['unique'])\n",
    "flatUnique = [word for sent in uniqueWords_by_doc for word in sent]\n",
    "docFreq = Counter(flatUnique)\n",
    "\n",
    "print(f'# unique-document words: {len(flatUnique):,}')\n",
    "print(f'# of unique words: {len(docFreq):,}')"
   ]
  },
  {
   "cell_type": "markdown",
   "metadata": {},
   "source": [
    "This is doing a similar process as above but instead of knowing how often a word appears across the entire set of words(irrespective of document) we can look at the number of documents a term appears across to find words that are unique to a specific movie as these would be less likely to contain specific information related to the broader class of genres.\n",
    "\n",
    "We would expect to see the same length of dicitonary of **docFreq** as that of **cnt** above, just instead of term occurence the words represent # of documents occurences"
   ]
  },
  {
   "cell_type": "code",
   "execution_count": 227,
   "metadata": {},
   "outputs": [
    {
     "name": "stdout",
     "output_type": "stream",
     "text": [
      "# of uncommon words across documents to remove: 13,952\n"
     ]
    }
   ],
   "source": [
    "### Remove words that show up in less than 3 documents\n",
    "uncommonWords_byDoc = Counter({key: c for key,c in docFreq.items() if c < 2})\n",
    "print(f'# of uncommon words across documents to remove: {len(uncommonWords_byDoc):,}')"
   ]
  },
  {
   "cell_type": "markdown",
   "metadata": {},
   "source": [
    "## Create Doc x TF matrix"
   ]
  },
  {
   "cell_type": "markdown",
   "metadata": {},
   "source": [
    "We can see that we actually end up kicking out less words this way hopefully reducing the information that is thrown away for each genre given by a document, we can now remove the above words from our training set"
   ]
  },
  {
   "cell_type": "code",
   "execution_count": 230,
   "metadata": {},
   "outputs": [
    {
     "name": "stdout",
     "output_type": "stream",
     "text": [
      "Total # of words: 322,865\n",
      "# of unique words: 12,163\n"
     ]
    }
   ],
   "source": [
    "dfTrain['reduced'] = dfTrain['stemmed'].apply(lambda a: ' '.join([word for word in a if word not in uncommonWords_byDoc]))\n",
    "\n",
    "wordList = np.asarray(dfTrain['reduced'].apply(lambda x: x.split()))\n",
    "totalWords = [word for sent in wordList for word in sent]\n",
    "uniqWords = Counter(totalWords)\n",
    "\n",
    "print(f'Total # of words: {len(totalWords):,}')\n",
    "print(f'# of unique words: {len(uniqWords):,}')"
   ]
  },
  {
   "cell_type": "code",
   "execution_count": 197,
   "metadata": {},
   "outputs": [],
   "source": [
    "vec = CountVectorizer()  \n",
    "vectors = vec.fit_transform(dfTrain.reduced)\n",
    "doctf = pd.DataFrame(vectors.todense().astype('uint8')) # decrease memory usage and we know because these are counts only upper bound for negative values use int8\n",
    "doctf.columns = vec.get_feature_names_out()"
   ]
  },
  {
   "cell_type": "code",
   "execution_count": 198,
   "metadata": {},
   "outputs": [
    {
     "name": "stdout",
     "output_type": "stream",
     "text": [
      "<class 'pandas.core.frame.DataFrame'>\n",
      "RangeIndex: 54214 entries, 0 to 54213\n",
      "Columns: 72242 entries, aa to zz\n",
      "dtypes: uint8(72242)\n",
      "memory usage: 3.6 GB\n"
     ]
    }
   ],
   "source": [
    "doctf.info()"
   ]
  },
  {
   "cell_type": "code",
   "execution_count": 195,
   "metadata": {},
   "outputs": [
    {
     "data": {
      "text/plain": [
       "<AxesSubplot:title={'center':'Most Frequent Terms'}>"
      ]
     },
     "execution_count": 195,
     "metadata": {},
     "output_type": "execute_result"
    },
    {
     "data": {
      "image/png": "[encoded data removed]",
      "text/plain": [
       "<Figure size 1440x360 with 1 Axes>"
      ]
     },
     "metadata": {
      "needs_background": "light"
     },
     "output_type": "display_data"
    }
   ],
   "source": [
    "longestMovieDescription = doctf.sum(axis=1)\n",
    "mostFreqTerms = doctf.sum(axis=0)\n",
    "\n",
    "plt.figure(figsize=(20,5))\n",
    "plt.title('Most Frequent Terms')\n",
    "mostFreqTerms.nlargest(100).plot.bar()"
   ]
  },
  {
   "cell_type": "code",
   "execution_count": 199,
   "metadata": {},
   "outputs": [
    {
     "data": {
      "text/plain": [
       "<AxesSubplot:title={'center':'Longest Movie Descriptions'}>"
      ]
     },
     "execution_count": 199,
     "metadata": {},
     "output_type": "execute_result"
    },
    {
     "data": {
      "image/png": "[encoded data removed]",
      "text/plain": [
       "<Figure size 1440x360 with 1 Axes>"
      ]
     },
     "metadata": {
      "needs_background": "light"
     },
     "output_type": "display_data"
    }
   ],
   "source": [
    "plt.figure(figsize=(20,5))\n",
    "plt.title('Longest Movie Descriptions')\n",
    "longestMovieDescription.nlargest(100).plot.bar()"
   ]
  },
  {
   "cell_type": "code",
   "execution_count": 207,
   "metadata": {},
   "outputs": [
    {
     "name": "stdout",
     "output_type": "stream",
     "text": [
      "Average Movie description length: 52 words\n",
      "Median Movie description length: 40 words\n"
     ]
    }
   ],
   "source": [
    "print(f'Average Movie description length: {round(longestMovieDescription.mean())} words')\n",
    "print(f'Median Movie description length: {round(longestMovieDescription.median())} words')"
   ]
  },
  {
   "cell_type": "code",
   "execution_count": 204,
   "metadata": {},
   "outputs": [
    {
     "data": {
      "text/plain": [
       "<AxesSubplot:title={'center':'Description Length Histogram'}, ylabel='Frequency'>"
      ]
     },
     "execution_count": 204,
     "metadata": {},
     "output_type": "execute_result"
    },
    {
     "data": {
      "image/png": "[encoded data removed]",
      "text/plain": [
       "<Figure size 720x360 with 1 Axes>"
      ]
     },
     "metadata": {
      "needs_background": "light"
     },
     "output_type": "display_data"
    }
   ],
   "source": [
    "plt.figure(figsize=(10,5))\n",
    "plt.title('Description Length Histogram')\n",
    "longestMovieDescription.plot.hist(bins=30)"
   ]
  },
  {
   "cell_type": "markdown",
   "metadata": {},
   "source": [
    "## Create TF x IDF matrix"
   ]
  },
  {
   "cell_type": "code",
   "execution_count": 208,
   "metadata": {},
   "outputs": [],
   "source": [
    "def tf_x_idf(df):\n",
    "    '''Create a function to find the TF x IDF weights for a given tf matrix'''\n",
    "    N = df.shape[1]\n",
    "    #count non zero inputs as the term occurs\n",
    "    df['df'] = df.apply(np.count_nonzero,axis=1)\n",
    "    #compute inverse term frequency \n",
    "    df['idf'] = np.log2(N/df['df']).astype(np.float16)\n",
    "    #compute final weight matrix \n",
    "    tf_idf = df.iloc[:,:-2].multiply(df['idf'],axis='index')\n",
    "\n",
    "    return tf_idf.astype(np.float16)"
   ]
  },
  {
   "cell_type": "code",
   "execution_count": 209,
   "metadata": {},
   "outputs": [
    {
     "name": "stdout",
     "output_type": "stream",
     "text": [
      "<class 'pandas.core.frame.DataFrame'>\n",
      "Index: 72242 entries, aa to zz\n",
      "Columns: 54214 entries, 0 to 54213\n",
      "dtypes: float16(54214)\n",
      "memory usage: 7.3+ GB\n"
     ]
    }
   ],
   "source": [
    "tf_idf = tf_x_idf(doctf.T)\n",
    "tf_idf.info()"
   ]
  },
  {
   "cell_type": "code",
   "execution_count": 212,
   "metadata": {},
   "outputs": [
    {
     "data": {
      "text/plain": [
       "(72242, 54214)"
      ]
     },
     "execution_count": 212,
     "metadata": {},
     "output_type": "execute_result"
    }
   ],
   "source": [
    "tf_idf.shape"
   ]
  },
  {
   "cell_type": "code",
   "execution_count": 210,
   "metadata": {},
   "outputs": [],
   "source": [
    "highestValueTerm = tf_idf.sum(axis=1)"
   ]
  },
  {
   "cell_type": "code",
   "execution_count": 211,
   "metadata": {},
   "outputs": [
    {
     "data": {
      "text/plain": [
       "<AxesSubplot:title={'center':'Highest Value Terms'}>"
      ]
     },
     "execution_count": 211,
     "metadata": {},
     "output_type": "execute_result"
    },
    {
     "data": {
      "image/png": "[encoded data removed]",
      "text/plain": [
       "<Figure size 1440x360 with 1 Axes>"
      ]
     },
     "metadata": {
      "needs_background": "light"
     },
     "output_type": "display_data"
    }
   ],
   "source": [
    "plt.figure(figsize=(20,5))\n",
    "plt.title('Highest Value Terms')\n",
    "highestValueTerm.nlargest(100).plot.bar()"
   ]
  },
  {
   "cell_type": "markdown",
   "metadata": {},
   "source": [
    "Transform the TF x IDF matrix into training and testing set and transpose to a DF X Term matrix and add genre labels back"
   ]
  },
  {
   "cell_type": "code",
   "execution_count": 216,
   "metadata": {},
   "outputs": [],
   "source": [
    "full = pd.concat([tf_idf.T,dfTrain['_label_']],axis=1)\n",
    "train, test = train_test_split(full, test_size=0.2,stratify=full['_label_'])"
   ]
  },
  {
   "cell_type": "markdown",
   "metadata": {},
   "source": [
    "## Rochio Classification"
   ]
  },
  {
   "cell_type": "markdown",
   "metadata": {},
   "source": [
    "Implementation from Homework 4"
   ]
  },
  {
   "cell_type": "code",
   "execution_count": 220,
   "metadata": {},
   "outputs": [],
   "source": [
    "def RocchioTrain(df):\n",
    "    '''Takes in a doc x TF matrix with appended labels returns Prototype Vector & unique classes'''\n",
    "    numWords = df.drop('_label_', axis = 1).shape[1]\n",
    "\n",
    "    labels = np.asarray(df['_label_'].values)\n",
    "    unique = np.unique(labels)\n",
    "\n",
    "    prototypeVector = np.zeros((len(unique),numWords))\n",
    "    for i in unique:\n",
    "\n",
    "        prototypeVector[i-1] = np.asarray(df[df['_label_'] == i].sum())[:-1]\n",
    "\n",
    "    return prototypeVector, unique\n",
    "\n",
    "\n",
    "def RocchioClassification(prototypes, classes, testInstance):\n",
    "    arr = testInstance[:-1]\n",
    "    pred = {}\n",
    "    for proto,class_ in zip(prototypes,classes):\n",
    "        proto = proto.reshape(1, -1)\n",
    "        prob = 1-spatial.distance.cosine(proto, arr)\n",
    "        pred[class_] = prob\n",
    "\n",
    "    maxKey = max(pred, key = pred.get)\n",
    "    actual = testInstance[-1:]\n",
    "    return maxKey, actual[0], pred[maxKey]\n",
    "\n",
    "def accuracy(df, ptv, classes):\n",
    "    '''Takes a test data set, posteriors and priors fr a trained doc x term matrix and returns accuracy of predictions'''\n",
    "    testSet = df.values\n",
    "    ### can use numpy sum with true/false & list comprehension to get one liner\n",
    "    acc = np.asarray([RocchioClassification(ptv,classes,i)[0] == RocchioClassification(ptv,classes,i)[1] for i in testSet])\n",
    "    \n",
    "    return acc.sum() / len(acc)  "
   ]
  },
  {
   "cell_type": "code",
   "execution_count": 218,
   "metadata": {},
   "outputs": [],
   "source": [
    "ptv, classes = RocchioTrain(train)"
   ]
  },
  {
   "cell_type": "code",
   "execution_count": 223,
   "metadata": {},
   "outputs": [
    {
     "name": "stderr",
     "output_type": "stream",
     "text": [
      "C:\\Python310\\lib\\site-packages\\scipy\\spatial\\distance.py:629: RuntimeWarning: overflow encountered in square\n",
      "  vv = np.average(np.square(v), weights=w)\n"
     ]
    },
    {
     "name": "stdout",
     "output_type": "stream",
     "text": [
      "Accuracy over all test set is: 2.64%\n"
     ]
    }
   ],
   "source": [
    "print(f'Accuracy over all test set is: {accuracy(test[:5000], ptv, classes):.2%}')"
   ]
  },
  {
   "cell_type": "markdown",
   "metadata": {},
   "source": [
    "Even with the more generaly grouping we still get results that are hardly high in terms of accuracy while selecting the correct class only slightly more than half the time. Yet it is interesting to see how the algorithm performed on each of the different Genres"
   ]
  },
  {
   "cell_type": "code",
   "execution_count": null,
   "metadata": {},
   "outputs": [],
   "source": [
    "test['pred'] = [RocchioClassification(ptv,classes,x)[0] for x in test.values]\n",
    "print(metrics.classification_report(test['_label_'],test['pred'],target_names=['Action','Adventure','Comedy','Crime','Drama','History','Horror','Music','Sci-Fi','Documentary','Other','Western']))"
   ]
  },
  {
   "cell_type": "code",
   "execution_count": 57,
   "metadata": {},
   "outputs": [
    {
     "data": {
      "text/plain": [
       "8     100\n",
       "1     100\n",
       "12    100\n",
       "4     100\n",
       "2     100\n",
       "9     100\n",
       "11    100\n",
       "7     100\n",
       "3     100\n",
       "6     100\n",
       "5     100\n",
       "10    100\n",
       "Name: _label_, dtype: int64"
      ]
     },
     "execution_count": 57,
     "metadata": {},
     "output_type": "execute_result"
    }
   ],
   "source": [
    "test['_label_'].value_counts()"
   ]
  },
  {
   "cell_type": "code",
   "execution_count": 59,
   "metadata": {},
   "outputs": [
    {
     "data": {
      "text/plain": [
       "5     156\n",
       "10    126\n",
       "4     112\n",
       "8     109\n",
       "7     108\n",
       "11    101\n",
       "12     99\n",
       "9      93\n",
       "3      79\n",
       "6      76\n",
       "2      71\n",
       "1      70\n",
       "Name: pred, dtype: int64"
      ]
     },
     "execution_count": 59,
     "metadata": {},
     "output_type": "execute_result"
    }
   ],
   "source": [
    "test['pred'].value_counts()"
   ]
  },
  {
   "cell_type": "code",
   "execution_count": 68,
   "metadata": {},
   "outputs": [
    {
     "data": {
      "image/png": "[encoded data removed]",
      "text/plain": [
       "<Figure size 1080x1080 with 2 Axes>"
      ]
     },
     "metadata": {
      "needs_background": "light"
     },
     "output_type": "display_data"
    }
   ],
   "source": [
    "cf_mat = confusion_matrix(test['_label_'],test['pred'])\n",
    "ls = ['Action','Adventure','Comedy','Crime','Drama','History','Horror','Music','Sci-Fi','Documentary','Other','Western']\n",
    "fig, ax = plt.subplots(figsize=(15,15))\n",
    "mat = sns.heatmap(cf_mat,annot=True,cmap=plt.cm.Blues,xticklabels=ls, yticklabels=ls)\n",
    "# plt.xticks(['Action','Adventure','Comedy','Crime','Drama','History','Horror','Music','Sci-Fi','Documentary','Other','Western'])\n",
    "# x-axis predicted y-axis true"
   ]
  },
  {
   "cell_type": "code",
   "execution_count": 132,
   "metadata": {},
   "outputs": [],
   "source": [
    "from scipy import spatial \n",
    "def recommendations(df,q):\n",
    "    docRank_q = []\n",
    "    for i in range(df.shape[0]):\n",
    "        doc = df.iloc[i].values\n",
    "        query = q.values\n",
    "        docRank_q.append(1-spatial.distance.cosine(doc,query))\n",
    "    finDocRank = pd.DataFrame({'DocRank':docRank_q})\n",
    "\n",
    "    return finDocRank"
   ]
  },
  {
   "cell_type": "code",
   "execution_count": 133,
   "metadata": {},
   "outputs": [],
   "source": [
    "testInstance = test.iloc[2][:-1]#.drop('_label_',axis=1)\n",
    "pred = RocchioClassification(ptv,classes,testInstance)[0]\n",
    "pred"
   ]
  },
  {
   "cell_type": "code",
   "execution_count": 135,
   "metadata": {},
   "outputs": [
    {
     "name": "stderr",
     "output_type": "stream",
     "text": [
      "C:\\Python310\\lib\\site-packages\\scipy\\spatial\\distance.py:628: RuntimeWarning: overflow encountered in square\n",
      "  uu = np.average(np.square(u), weights=w)\n"
     ]
    }
   ],
   "source": [
    "\n",
    "rec = recommendations(tf_idf.T,testInstance)"
   ]
  },
  {
   "cell_type": "code",
   "execution_count": 231,
   "metadata": {},
   "outputs": [],
   "source": [
    "lookup = rec.sort_values('DocRank',ascending=False).index[1:6].values\n",
    "sim = rec.sort_values('DocRank',ascending=False).values[1:6]"
   ]
  },
  {
   "cell_type": "code",
   "execution_count": 232,
   "metadata": {},
   "outputs": [
    {
     "data": {
      "text/plain": [
       "array([[0.29724594],\n",
       "       [0.2413341 ],\n",
       "       [0.23100207],\n",
       "       [0.2033918 ],\n",
       "       [0.20178809]])"
      ]
     },
     "execution_count": 232,
     "metadata": {},
     "output_type": "execute_result"
    }
   ],
   "source": [
    "sim = rec.sort_values('DocRank',ascending=False).values[1:6]\n",
    "sim"
   ]
  },
  {
   "cell_type": "code",
   "execution_count": 233,
   "metadata": {},
   "outputs": [
    {
     "data": {
      "text/html": [
       "<div>\n",
       "<style scoped>\n",
       "    .dataframe tbody tr th:only-of-type {\n",
       "        vertical-align: middle;\n",
       "    }\n",
       "\n",
       "    .dataframe tbody tr th {\n",
       "        vertical-align: top;\n",
       "    }\n",
       "\n",
       "    .dataframe thead th {\n",
       "        text-align: right;\n",
       "    }\n",
       "</style>\n",
       "<table border=\"1\" class=\"dataframe\">\n",
       "  <thead>\n",
       "    <tr style=\"text-align: right;\">\n",
       "      <th></th>\n",
       "      <th>title</th>\n",
       "      <th>genre</th>\n",
       "      <th>descr</th>\n",
       "    </tr>\n",
       "  </thead>\n",
       "  <tbody>\n",
       "    <tr>\n",
       "      <th>2460</th>\n",
       "      <td>King of the Wild Horses (1947)</td>\n",
       "      <td>western</td>\n",
       "      <td>An orphan goes to live with his uncle and cou...</td>\n",
       "    </tr>\n",
       "    <tr>\n",
       "      <th>1688</th>\n",
       "      <td>Tranquility (2010/I)</td>\n",
       "      <td>drama</td>\n",
       "      <td>JIMMY KOVAC is a line cook in a Los Angeles r...</td>\n",
       "    </tr>\n",
       "    <tr>\n",
       "      <th>4605</th>\n",
       "      <td>Bulldog Courage (1922)</td>\n",
       "      <td>western</td>\n",
       "      <td>College athlete Jimmy Brent is sent to Wyomin...</td>\n",
       "    </tr>\n",
       "    <tr>\n",
       "      <th>740</th>\n",
       "      <td>The Clinging Vine (1926)</td>\n",
       "      <td>comedy</td>\n",
       "      <td>Mannish ultra efficient A B  is the real forc...</td>\n",
       "    </tr>\n",
       "    <tr>\n",
       "      <th>4214</th>\n",
       "      <td>Gun Runner (1949)</td>\n",
       "      <td>western</td>\n",
       "      <td>Kate Diamond owns the Roaring Falls Trading P...</td>\n",
       "    </tr>\n",
       "  </tbody>\n",
       "</table>\n",
       "</div>"
      ],
      "text/plain": [
       "                                 title    genre  \\\n",
       "2460   King of the Wild Horses (1947)   western   \n",
       "1688             Tranquility (2010/I)     drama   \n",
       "4605           Bulldog Courage (1922)   western   \n",
       "740          The Clinging Vine (1926)    comedy   \n",
       "4214                Gun Runner (1949)   western   \n",
       "\n",
       "                                                  descr  \n",
       "2460   An orphan goes to live with his uncle and cou...  \n",
       "1688   JIMMY KOVAC is a line cook in a Los Angeles r...  \n",
       "4605   College athlete Jimmy Brent is sent to Wyomin...  \n",
       "740    Mannish ultra efficient A B  is the real forc...  \n",
       "4214   Kate Diamond owns the Roaring Falls Trading P...  "
      ]
     },
     "execution_count": 233,
     "metadata": {},
     "output_type": "execute_result"
    }
   ],
   "source": [
    "dfTrain[['title','genre','descr']].loc[lookup]"
   ]
  },
  {
   "cell_type": "code",
   "execution_count": 143,
   "metadata": {},
   "outputs": [
    {
     "name": "stderr",
     "output_type": "stream",
     "text": [
      "C:\\Users\\tate5\\AppData\\Local\\Temp\\ipykernel_7892\\3980884408.py:2: ParserWarning: Falling back to the 'python' engine because the 'c' engine does not support regex separators (separators > 1 char and different from '\\s+' are interpreted as regex); you can avoid this warning by specifying engine='python'.\n",
      "  tmp = pd.read_csv('test_data_solution.txt',delimiter=':::',names=colNames)\n"
     ]
    }
   ],
   "source": [
    "colNames = ['id','title','genre','descr']\n",
    "tmp = pd.read_csv('test_data_solution.txt',delimiter=':::',names=colNames)"
   ]
  },
  {
   "cell_type": "code",
   "execution_count": 144,
   "metadata": {},
   "outputs": [],
   "source": [
    "tmp = tmp.iloc[:5]"
   ]
  },
  {
   "cell_type": "code",
   "execution_count": 147,
   "metadata": {},
   "outputs": [],
   "source": [
    "descrip = '''Tate Noble returns to the town of his youth where as a boy his parents were murdered. His childhood friend Samuel, now the sheriff of La Mesa knows who is responsible, and Tate's arrival sparks hostility between Samuel and his father Judge Carter. As the mystery unravels, Tate and Samuel enlist help from an unlikely source, the mob, in order to bring to justice the man ultimately responsible, the evil Harcourt Simms.'''\n",
    "title = 'Gunfight at La Mesa (2010)'\n",
    "genre = 'western'"
   ]
  },
  {
   "cell_type": "code",
   "execution_count": 152,
   "metadata": {},
   "outputs": [],
   "source": [
    "testTmp = pd.DataFrame({'id':9999,'title':title,'genre':'western','descr':descrip}, index=[0])"
   ]
  }
 ],
 "metadata": {
  "interpreter": {
   "hash": "2be5faf79681da6f2a61fdfdd5405d65d042280f7fba6178067603e3a2925119"
  },
  "kernelspec": {
   "display_name": "Python 3.10.2 64-bit",
   "language": "python",
   "name": "python3"
  },
  "language_info": {
   "codemirror_mode": {
    "name": "ipython",
    "version": 3
   },
   "file_extension": ".py",
   "mimetype": "text/x-python",
   "name": "python",
   "nbconvert_exporter": "python",
   "pygments_lexer": "ipython3",
   "version": "3.10.2"
  },
  "orig_nbformat": 4
 },
 "nbformat": 4,
 "nbformat_minor": 2
}
